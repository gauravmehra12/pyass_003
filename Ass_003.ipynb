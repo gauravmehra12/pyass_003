{
 "cells": [
  {
   "cell_type": "markdown",
   "id": "25f68f93",
   "metadata": {},
   "source": [
    "Q1. Why are functions advantageous to have in your programs?"
   ]
  },
  {
   "cell_type": "code",
   "execution_count": null,
   "id": "97779f87",
   "metadata": {},
   "outputs": [],
   "source": [
    "#ans1.\n",
    "# Functions makes the reusability of the code easiler.\n",
    "# Improves clarity of the codes.\n",
    "# It helps in modular programming that is functions help to break program in smaller modules."
   ]
  },
  {
   "cell_type": "markdown",
   "id": "229d99af",
   "metadata": {},
   "source": [
    "Q2. When does the code in a function run: when it's specified or when it's called?"
   ]
  },
  {
   "cell_type": "code",
   "execution_count": null,
   "id": "7f6b1e54",
   "metadata": {},
   "outputs": [],
   "source": [
    "#ans2.\n",
    "# when it is called"
   ]
  },
  {
   "cell_type": "markdown",
   "id": "5ffc5255",
   "metadata": {},
   "source": [
    "Q3. What statement creates a function?"
   ]
  },
  {
   "cell_type": "code",
   "execution_count": 1,
   "id": "52740ac4",
   "metadata": {},
   "outputs": [],
   "source": [
    "#ans3.\n",
    "# def is used to create a function\n",
    "#for example\n",
    "def test():        #this statement is used to create a function\n",
    "    pass"
   ]
  },
  {
   "cell_type": "markdown",
   "id": "108ff2a1",
   "metadata": {},
   "source": [
    "Q4. What is the difference between a function and a function call?"
   ]
  },
  {
   "cell_type": "code",
   "execution_count": 2,
   "id": "5ca7b15e",
   "metadata": {},
   "outputs": [
    {
     "name": "stdout",
     "output_type": "stream",
     "text": [
      "Hi, iNeuron\n"
     ]
    }
   ],
   "source": [
    "#ans4.\n",
    "#Functions are block of codes which performs a specific task when called while coding and can be called again and again as per requirement in the code.\n",
    "#Function is called while coding is called function call.\n",
    "# as shown\n",
    "def test():\n",
    "    print(\"Hi, iNeuron\")\n",
    "\n",
    "test()       # calling test function in the code"
   ]
  },
  {
   "cell_type": "markdown",
   "id": "83e34ce9",
   "metadata": {},
   "source": [
    "Q5. How many global scopes are there in a Python program? How many local scopes?"
   ]
  },
  {
   "cell_type": "code",
   "execution_count": null,
   "id": "ca63ca18",
   "metadata": {},
   "outputs": [],
   "source": [
    "#ans5.\n",
    "#There’s only one global scope per Python program. \n",
    "#This scope remains in existence until the program terminates. \n",
    "#Otherwise, the next time you were to run the program, the names would remember their values from the previous running program.\n",
    "\n",
    "# A local scope is created while a function is called in the program.\n",
    "# so as many function as many local scopes"
   ]
  },
  {
   "cell_type": "markdown",
   "id": "8c16ec3b",
   "metadata": {},
   "source": [
    "Q6. What happens to variables in a local scope when the function call returns?"
   ]
  },
  {
   "cell_type": "code",
   "execution_count": null,
   "id": "eb108a4b",
   "metadata": {},
   "outputs": [],
   "source": [
    "#ans6.\n",
    "# When the funtion call returns the local variables gets destroyed."
   ]
  },
  {
   "cell_type": "markdown",
   "id": "e0b8982b",
   "metadata": {},
   "source": [
    "Q7. What is the concept of a return value? Is it possible to have a return value in an expression?"
   ]
  },
  {
   "cell_type": "code",
   "execution_count": null,
   "id": "3e305b4e",
   "metadata": {},
   "outputs": [],
   "source": [
    "#ans7.\n",
    "# A return is a value that function returns when the respective function called and finishes its task.\n",
    "# it is possible to return value from an expression where a*b is an expression \n",
    "return a*b\n",
    "# but can not return as expression"
   ]
  },
  {
   "cell_type": "markdown",
   "id": "72102458",
   "metadata": {},
   "source": [
    "Q8. If a function does not have a return statement, what is the return value of a call to that function?"
   ]
  },
  {
   "cell_type": "code",
   "execution_count": null,
   "id": "a2dcd4e9",
   "metadata": {},
   "outputs": [],
   "source": [
    "#ans8.\n",
    "# When function does not have a return statement, then it returns a default value for us.\n",
    "# and that default value will always be None"
   ]
  },
  {
   "cell_type": "markdown",
   "id": "a5b0bf21",
   "metadata": {},
   "source": [
    "Q9. How do you make a function variable refer to the global variable?"
   ]
  },
  {
   "cell_type": "code",
   "execution_count": null,
   "id": "7b28ff34",
   "metadata": {},
   "outputs": [],
   "source": [
    "#ans9.\n",
    "# To create a global variable inside a function just use the keyword global.\n",
    "#for example:\n",
    "def test1():\n",
    "    global x\n",
    "    x = 'iNeuron'\n",
    "    pass\n",
    "# and to use global variable creates out side the fuction can be used directly untill the program terminates."
   ]
  },
  {
   "cell_type": "markdown",
   "id": "1c38793a",
   "metadata": {},
   "source": [
    "Q10. What is the data type of None?"
   ]
  },
  {
   "cell_type": "code",
   "execution_count": null,
   "id": "6c959833",
   "metadata": {},
   "outputs": [],
   "source": [
    "#ans10.\n",
    "# The data type of None will always be NoneType."
   ]
  },
  {
   "cell_type": "markdown",
   "id": "ec972d6d",
   "metadata": {},
   "source": [
    "Q11. What does the sentence import areallyourpetsnamederic do?"
   ]
  },
  {
   "cell_type": "code",
   "execution_count": null,
   "id": "7c87aa04",
   "metadata": {},
   "outputs": [],
   "source": [
    "#ans11.\n",
    "# The sentence will import the module or package which is defined as areallyourpetsnamederic ."
   ]
  },
  {
   "cell_type": "markdown",
   "id": "a6c305a5",
   "metadata": {},
   "source": [
    "Q12. If you had a bacon() feature in a spam module, what would you call it after importing spam?"
   ]
  },
  {
   "cell_type": "code",
   "execution_count": null,
   "id": "0ecc559e",
   "metadata": {},
   "outputs": [],
   "source": [
    "#ans12.\n",
    "import spam\n",
    "# after the above statement to call the function we have to execute the below statement.\n",
    "spam.bacon()"
   ]
  },
  {
   "cell_type": "markdown",
   "id": "19f08330",
   "metadata": {},
   "source": [
    "Q13. What can you do to save a programme from crashing if it encounters an error?"
   ]
  },
  {
   "cell_type": "code",
   "execution_count": null,
   "id": "1894d3b1",
   "metadata": {},
   "outputs": [],
   "source": [
    "#ans13.\n",
    "# To the save a programme from crashing if it encounters an error it is must to use Execption handling while programming(or while coding).\n",
    "# by using try and execpt clause."
   ]
  },
  {
   "cell_type": "markdown",
   "id": "d8ee3ada",
   "metadata": {},
   "source": [
    "Q14. What is the purpose of the try clause? What is the purpose of the except clause?"
   ]
  },
  {
   "cell_type": "code",
   "execution_count": null,
   "id": "85f0c557",
   "metadata": {},
   "outputs": [],
   "source": [
    "#ans14.\n",
    "# The try clause will test the block of codes for an error.\n",
    "# and The except clause will handle the error occured in the try block."
   ]
  }
 ],
 "metadata": {
  "kernelspec": {
   "display_name": "Python 3 (ipykernel)",
   "language": "python",
   "name": "python3"
  },
  "language_info": {
   "codemirror_mode": {
    "name": "ipython",
    "version": 3
   },
   "file_extension": ".py",
   "mimetype": "text/x-python",
   "name": "python",
   "nbconvert_exporter": "python",
   "pygments_lexer": "ipython3",
   "version": "3.9.12"
  }
 },
 "nbformat": 4,
 "nbformat_minor": 5
}
